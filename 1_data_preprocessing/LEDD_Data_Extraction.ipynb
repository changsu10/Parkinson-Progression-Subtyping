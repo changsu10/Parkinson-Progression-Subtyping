{
 "cells": [
  {
   "cell_type": "markdown",
   "metadata": {},
   "source": [
    "Notebook to process the levodopa equivalent dose information from PPMI."
   ]
  },
  {
   "cell_type": "code",
   "execution_count": null,
   "metadata": {},
   "outputs": [],
   "source": [
    "import numpy as np\n",
    "import pandas as pd\n",
    "\n",
    "from calc_ledd import calc_ledd"
   ]
  },
  {
   "cell_type": "markdown",
   "metadata": {},
   "source": [
    "### Demographics\n",
    "Use preprocessed demographics. Enrolled patients have an enroll date that is not null."
   ]
  },
  {
   "cell_type": "code",
   "execution_count": null,
   "metadata": {},
   "outputs": [],
   "source": [
    "path = \"data/\"### PUT PATH TO DATA HERE ###"
   ]
  },
  {
   "cell_type": "code",
   "execution_count": null,
   "metadata": {},
   "outputs": [],
   "source": [
    "demo = pd.read_csv('demographics.csv',index_col=0) #note that this is the processed data created by 'Demographics_Data_Processing.ipynb\n",
    "enrol_pat = demo[~demo.ENROLLDT.isnull()] # ENROLLDT  enroll date"
   ]
  },
  {
   "cell_type": "code",
   "execution_count": null,
   "metadata": {},
   "outputs": [],
   "source": [
    "enrol_pat.head(25)"
   ]
  },
  {
   "cell_type": "markdown",
   "metadata": {},
   "source": [
    "### LEDD Medications"
   ]
  },
  {
   "cell_type": "code",
   "execution_count": null,
   "metadata": {},
   "outputs": [],
   "source": [
    "ledd_med = pd.read_csv(path + 'LEDD_Concomitant_Medication_Log.csv')"
   ]
  },
  {
   "cell_type": "code",
   "execution_count": null,
   "metadata": {},
   "outputs": [],
   "source": [
    "ledd_med.head()"
   ]
  },
  {
   "cell_type": "code",
   "execution_count": null,
   "metadata": {},
   "outputs": [],
   "source": [
    "ledd_med"
   ]
  },
  {
   "cell_type": "markdown",
   "metadata": {},
   "source": [
    "Data we're intested in PATNO, EVENT_ID, LEDD, STARTDT, STARTEST, STOPDT, STOPEST, CMTRT, CMDOSE, CMDOSU, ONGOING for only PD medications and patients who are enrolled."
   ]
  },
  {
   "cell_type": "code",
   "execution_count": null,
   "metadata": {},
   "outputs": [],
   "source": [
    "ledd_df = ledd_med.merge(enrol_pat[['APPRDX','PATNO']], on=[\"PATNO\"]) "
   ]
  },
  {
   "cell_type": "code",
   "execution_count": null,
   "metadata": {},
   "outputs": [],
   "source": [
    "ledd_df"
   ]
  },
  {
   "cell_type": "code",
   "execution_count": null,
   "metadata": {},
   "outputs": [],
   "source": [
    "pt_records = ledd_df.groupby('PATNO')"
   ]
  },
  {
   "cell_type": "code",
   "execution_count": null,
   "metadata": {},
   "outputs": [],
   "source": [
    "counts_per_patient = pt_records.STARTDT.count().value_counts(sort=False)"
   ]
  },
  {
   "cell_type": "code",
   "execution_count": null,
   "metadata": {},
   "outputs": [],
   "source": [
    "counts_per_patient"
   ]
  },
  {
   "cell_type": "markdown",
   "metadata": {},
   "source": [
    "Calculate LEDD for each patno date combination in the signature form"
   ]
  },
  {
   "cell_type": "code",
   "execution_count": null,
   "metadata": {},
   "outputs": [],
   "source": [
    "signature = pd.read_csv(path + '/Signature_Form-Archived.csv') # new downloaded"
   ]
  },
  {
   "cell_type": "code",
   "execution_count": null,
   "metadata": {},
   "outputs": [],
   "source": [
    "signature.head()"
   ]
  },
  {
   "cell_type": "code",
   "execution_count": null,
   "metadata": {},
   "outputs": [],
   "source": [
    "ledd_processed = pd.DataFrame(columns=['PATNO','EVENT_ID','INFODT','LEDD'])"
   ]
  },
  {
   "cell_type": "code",
   "execution_count": null,
   "metadata": {},
   "outputs": [],
   "source": [
    "ledd_df.STARTDT = pd.to_datetime(ledd_df.STARTDT)\n",
    "ledd_df.STOPDT = pd.to_datetime(ledd_df.STOPDT)\n",
    "for idx in signature.index:\n",
    "    pn = signature.loc[idx].PATNO\n",
    "    ei = signature.loc[idx].EVENT_ID\n",
    "    idt = signature.loc[idx].INFODT\n",
    "    ledd = calc_ledd(ledd_df, pn, pd.to_datetime(idt))\n",
    "    ledd_processed = ledd_processed.append({'PATNO':pn, 'EVENT_ID':ei, 'INFODT': idt, 'LEDD':ledd},\n",
    "                                   ignore_index=True)"
   ]
  },
  {
   "cell_type": "code",
   "execution_count": null,
   "metadata": {},
   "outputs": [],
   "source": [
    "ledd_processed.to_csv('ledd.csv')"
   ]
  },
  {
   "cell_type": "code",
   "execution_count": null,
   "metadata": {},
   "outputs": [],
   "source": []
  }
 ],
 "metadata": {
  "kernelspec": {
   "display_name": "Python 3",
   "language": "python",
   "name": "python3"
  },
  "language_info": {
   "codemirror_mode": {
    "name": "ipython",
    "version": 3
   },
   "file_extension": ".py",
   "mimetype": "text/x-python",
   "name": "python",
   "nbconvert_exporter": "python",
   "pygments_lexer": "ipython3",
   "version": "3.7.3"
  }
 },
 "nbformat": 4,
 "nbformat_minor": 2
}
